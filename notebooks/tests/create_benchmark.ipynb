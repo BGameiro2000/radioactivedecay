{
 "cells": [
  {
   "cell_type": "markdown",
   "metadata": {},
   "source": [
    "# Create benchmark files of radioactive decay results\n",
    "Generate files containing radioactive decay results of all radionuclides for the current version of radioactivedecay."
   ]
  },
  {
   "cell_type": "code",
   "execution_count": 1,
   "metadata": {},
   "outputs": [
    {
     "name": "stdout",
     "output_type": "stream",
     "text": [
      "Generative bechmark radioactive decay results with radioactivedecay version 0.0.4 with default dataset icrp107.\n"
     ]
    }
   ],
   "source": [
    "import pickle\n",
    "import radioactivedecay as rd\n",
    "import numpy as np\n",
    "\n",
    "benchmark_ver = '0.0.4'\n",
    "delta = 1E-14\n",
    "\n",
    "print('Generative bechmark radioactive decay results with '+rd.__name__+' version '+rd.__version__\\\n",
    "      +' with default dataset '+rd.DEFAULTDATA.dataset+'.')"
   ]
  },
  {
   "cell_type": "code",
   "execution_count": 2,
   "metadata": {},
   "outputs": [],
   "source": [
    "hl_factors = [0.0, 1E-2, 1E-1, 1E0, 1E1, 1E2]\n",
    "\n",
    "for factor in hl_factors:\n",
    "    dic = {}\n",
    "    for name in rd.DEFAULTDATA.nuclide_names:\n",
    "        dic[name] = rd.Inventory({name: 1.0}).decay(rd.Radionuclide(name).halflife()*factor).contents\n",
    "    with open('ver_'+benchmark_ver+'_halflife_'+str(factor)+'.pickle', 'wb') as handle:\n",
    "        pickle.dump(dic, handle)"
   ]
  }
 ],
 "metadata": {
  "kernelspec": {
   "display_name": "Python 3",
   "language": "python",
   "name": "python3"
  },
  "language_info": {
   "codemirror_mode": {
    "name": "ipython",
    "version": 3
   },
   "file_extension": ".py",
   "mimetype": "text/x-python",
   "name": "python",
   "nbconvert_exporter": "python",
   "pygments_lexer": "ipython3",
   "version": "3.7.7"
  }
 },
 "nbformat": 4,
 "nbformat_minor": 4
}
