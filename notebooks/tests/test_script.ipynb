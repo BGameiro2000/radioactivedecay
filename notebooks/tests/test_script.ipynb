{
 "cells": [
  {
   "cell_type": "markdown",
   "metadata": {},
   "source": [
    "# Test script for the functionality of radioactivedecay\n",
    "\n",
    "This test script checks the functionality of radioactive decay and checks the output of decay calculations against baseline results generated with radioactivedecay version 0.0.4."
   ]
  },
  {
   "cell_type": "code",
   "execution_count": 1,
   "metadata": {},
   "outputs": [
    {
     "name": "stdout",
     "output_type": "stream",
     "text": [
      "Testing radioactivedecay version 0.0.4 with default dataset icrp107, benchmarking against version 0.0.4.\n"
     ]
    }
   ],
   "source": [
    "import pickle\n",
    "import radioactivedecay as rd\n",
    "import numpy as np\n",
    "\n",
    "benchmark_ver = '0.0.4'\n",
    "\n",
    "print('Testing '+rd.__name__+' version '+rd.__version__+' with default dataset '+rd.DEFAULTDATA.dataset\\\n",
    "      +', benchmarking against version '+benchmark_ver+'.')"
   ]
  },
  {
   "cell_type": "markdown",
   "metadata": {},
   "source": [
    "Check radioactive decay calculations against baseline calculations. The validation strategy is check the relative difference of the results with the test version against the benchmark, and write out cases where the relative difference is greater than delta."
   ]
  },
  {
   "cell_type": "code",
   "execution_count": 2,
   "metadata": {},
   "outputs": [
    {
     "name": "stdout",
     "output_type": "stream",
     "text": [
      "\n",
      "Number of discrepancies with radioactivity relative delta > 1e-14 compared to benchmark case is 0\n"
     ]
    }
   ],
   "source": [
    "delta = 1E-14\n",
    "hl_factors = [0.0, 1E-2, 1E-1, 1E0, 1E1, 1E2]\n",
    "\n",
    "discrepancies = 0\n",
    "for factor in hl_factors:\n",
    "    benchmark = pickle.load(open('ver_'+benchmark_ver+'_halflife_'+str(factor)+'.pickle', 'rb'))\n",
    "    for name in rd.DEFAULTDATA.nuclide_names:\n",
    "        testversion = rd.Inventory({name: 1.0}).decay(rd.Radionuclide(name).halflife()*factor).contents\n",
    "        denom = np.array(list(benchmark[name].values()), dtype=np.float64)\n",
    "        rel_diff = np.abs(np.array(list(testversion.values()), dtype=np.float64)-denom)\n",
    "        rel_diff = np.divide(rel_diff, denom, out=np.zeros_like(rel_diff), where=denom!=0)\n",
    "        if np.max(rel_diff) > delta:\n",
    "            print(factor, name, testversion, benchmark[name], rel_diff)\n",
    "            discrepancies += 1\n",
    "\n",
    "\n",
    "print('\\nNumber of discrepancies with radioactivity relative delta > '+str(delta)+\n",
    "      ' compared to benchmark case is '+str(discrepancies))"
   ]
  },
  {
   "cell_type": "markdown",
   "metadata": {},
   "source": [
    "Check radionuclide string, activity and time unit formatting."
   ]
  },
  {
   "cell_type": "code",
   "execution_count": 3,
   "metadata": {},
   "outputs": [
    {
     "name": "stdout",
     "output_type": "stream",
     "text": [
      "{'H-3': 1}\n",
      "{'H-3': 1.0}\n",
      "{'Tc-99m': 10000000000.0}\n",
      "{'Tc-99m': -1}\n",
      "{'Eu-152n': -1.0}\n",
      "{'Eu-152n': -10000000000.0}\n",
      "{'H-3': 0.9452914876844037}\n",
      "{'Tc-99': 30.458451846563033, 'Tc-99m': 629336340.3196114}\n",
      "{'Tc-99': 3.53788983214965, 'Tc-99m': 8911554151.0408}\n",
      "{'Eu-152': 9.70045914516703e-08, 'Eu-152n': 0.9928057204912689, 'Gd-152': 1.6532822233116719e-28, 'Nd-144': 0.0, 'Sm-148': 0.0}\n",
      "{'Eu-152': 1.622489338586307e-09, 'Eu-152n': 0.9998796691881524, 'Gd-152': 4.60643985381057e-32, 'Nd-144': 0.0, 'Sm-148': 0.0}\n",
      "{'Eu-152': 1.622489338586307e-09, 'Eu-152n': 0.9998796691881524, 'Gd-152': 4.60643985381057e-32, 'Nd-144': 0.0, 'Sm-148': 0.0}\n",
      "12.32\n",
      "12.319999999999999\n",
      "6.015\n",
      "6.015\n",
      "96.0\n",
      "96.0\n"
     ]
    }
   ],
   "source": [
    "print(rd.Inventory({'H3': 1}).contents)\n",
    "print(rd.Inventory({'3H': 1.0}).contents)\n",
    "print(rd.Inventory({'99mTc': 1E10}).contents)\n",
    "print(rd.Inventory({'Tc99m': -1}).contents)\n",
    "print(rd.Inventory({'152nEu': -1.0}).contents)\n",
    "print(rd.Inventory({'Eu152n': -1E10}).contents)\n",
    "\n",
    "print(rd.Inventory({'H3': 1}).decay(1, 'y').contents)\n",
    "print(rd.Inventory({'99mTc': 1E10}).decay(1, 'd').contents)\n",
    "print(rd.Inventory({'99mTc': 1E10}).decay(1, 'h').contents)\n",
    "print(rd.Inventory({'152nEu': 1.0}).decay(1, 'm').contents)\n",
    "print(rd.Inventory({'152nEu': 1.0}).decay(1, 's').contents)\n",
    "print(rd.Inventory({'152nEu': 1.0}).decay(1).contents)\n",
    "\n",
    "print(rd.Radionuclide('H3').halflife('y'))\n",
    "print(rd.Radionuclide('H3').halflife('d')/365.2425)\n",
    "print(rd.Radionuclide('99mTc').halflife('h'))\n",
    "print(rd.Radionuclide('Tc99m').halflife('m')/60.0)\n",
    "print(rd.Radionuclide('152nEu').halflife('m'))\n",
    "print(rd.Radionuclide('Eu152n').halflife('s')/60.0)"
   ]
  },
  {
   "cell_type": "markdown",
   "metadata": {},
   "source": [
    "Check Inventory returns correctly sorted inventories."
   ]
  },
  {
   "cell_type": "code",
   "execution_count": 4,
   "metadata": {},
   "outputs": [
    {
     "name": "stdout",
     "output_type": "stream",
     "text": [
      "{'H-3': 1.0, 'U-235': 1.0}\n",
      "{'Ac-227': 0.0, 'At-219': 0.0, 'Bi-211': 0.0, 'Bi-215': 0.0, 'Fr-223': 0.0, 'Pa-231': 0.0, 'Pb-211': 0.0, 'Po-211': 0.0, 'Po-215': 0.0, 'Ra-223': 0.0, 'Rn-219': 0.0, 'Th-227': 0.0, 'Th-231': 0.0, 'Tl-207': 0.0, 'U-235': 1.0}\n"
     ]
    }
   ],
   "source": [
    "print(rd.Inventory({'U235': 1.0, 'H3': 1.0}).contents)\n",
    "print(rd.Inventory({'U235': 1.0}).decay(0).contents)"
   ]
  }
 ],
 "metadata": {
  "kernelspec": {
   "display_name": "Python 3",
   "language": "python",
   "name": "python3"
  },
  "language_info": {
   "codemirror_mode": {
    "name": "ipython",
    "version": 3
   },
   "file_extension": ".py",
   "mimetype": "text/x-python",
   "name": "python",
   "nbconvert_exporter": "python",
   "pygments_lexer": "ipython3",
   "version": "3.7.7"
  }
 },
 "nbformat": 4,
 "nbformat_minor": 4
}
